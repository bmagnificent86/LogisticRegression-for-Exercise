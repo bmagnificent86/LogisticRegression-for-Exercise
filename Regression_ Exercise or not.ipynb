{
 "cells": [
  {
   "cell_type": "markdown",
   "metadata": {},
   "source": [
    "# Determining if someone exercises or not..."
   ]
  },
  {
   "cell_type": "code",
   "execution_count": 45,
   "metadata": {},
   "outputs": [],
   "source": [
    "import matplotlib.pyplot as plt\n",
    "import numpy as np\n",
    "import pandas as pd\n",
    "from sklearn import linear_model\n",
    "import statsmodels.formula.api as smf\n",
    "from sqlalchemy import create_engine\n",
    "import seaborn as sns\n",
    "from sklearn.linear_model import LinearRegression\n",
    "from sklearn.linear_model import LogisticRegression\n",
    "from sklearn.model_selection import train_test_split\n",
    "from sklearn.metrics import mean_absolute_error\n",
    "import statsmodels.api as sm\n",
    "from statsmodels.tools.eval_measures import mse, rmse\n",
    "\n",
    "from sqlalchemy import create_engine\n",
    "\n",
    "import warnings\n",
    "warnings.filterwarnings('ignore')"
   ]
  },
  {
   "cell_type": "code",
   "execution_count": 46,
   "metadata": {},
   "outputs": [],
   "source": [
    "pd.set_option('display.max_rows', 3000)"
   ]
  },
  {
   "cell_type": "code",
   "execution_count": 47,
   "metadata": {},
   "outputs": [],
   "source": [
    "# Importing the data into a dataframe\n",
    "\n",
    "df = pd.read_csv('food_coded.csv')\n"
   ]
  },
  {
   "cell_type": "code",
   "execution_count": 48,
   "metadata": {
    "scrolled": true
   },
   "outputs": [
    {
     "name": "stdout",
     "output_type": "stream",
     "text": [
      "<class 'pandas.core.frame.DataFrame'>\n",
      "RangeIndex: 125 entries, 0 to 124\n",
      "Data columns (total 61 columns):\n",
      "GPA                             123 non-null object\n",
      "Gender                          125 non-null int64\n",
      "breakfast                       125 non-null int64\n",
      "calories_chicken                125 non-null int64\n",
      "calories_day                    106 non-null float64\n",
      "calories_scone                  124 non-null float64\n",
      "coffee                          125 non-null int64\n",
      "comfort_food                    124 non-null object\n",
      "comfort_food_reasons            124 non-null object\n",
      "comfort_food_reasons_coded      106 non-null float64\n",
      "cook                            122 non-null float64\n",
      "comfort_food_reasons_coded.1    125 non-null int64\n",
      "cuisine                         108 non-null float64\n",
      "diet_current                    124 non-null object\n",
      "diet_current_coded              125 non-null int64\n",
      "drink                           123 non-null float64\n",
      "eating_changes                  122 non-null object\n",
      "eating_changes_coded            125 non-null int64\n",
      "eating_changes_coded1           125 non-null int64\n",
      "eating_out                      125 non-null int64\n",
      "employment                      116 non-null float64\n",
      "ethnic_food                     125 non-null int64\n",
      "exercise                        112 non-null float64\n",
      "father_education                124 non-null float64\n",
      "father_profession               122 non-null object\n",
      "fav_cuisine                     123 non-null object\n",
      "fav_cuisine_coded               125 non-null int64\n",
      "fav_food                        123 non-null float64\n",
      "food_childhood                  124 non-null object\n",
      "fries                           125 non-null int64\n",
      "fruit_day                       125 non-null int64\n",
      "grade_level                     125 non-null int64\n",
      "greek_food                      125 non-null int64\n",
      "healthy_feeling                 125 non-null int64\n",
      "healthy_meal                    124 non-null object\n",
      "ideal_diet                      124 non-null object\n",
      "ideal_diet_coded                125 non-null int64\n",
      "income                          124 non-null float64\n",
      "indian_food                     125 non-null int64\n",
      "italian_food                    125 non-null int64\n",
      "life_rewarding                  124 non-null float64\n",
      "marital_status                  124 non-null float64\n",
      "meals_dinner_friend             122 non-null object\n",
      "mother_education                122 non-null float64\n",
      "mother_profession               123 non-null object\n",
      "nutritional_check               125 non-null int64\n",
      "on_off_campus                   124 non-null float64\n",
      "parents_cook                    125 non-null int64\n",
      "pay_meal_out                    125 non-null int64\n",
      "persian_food                    124 non-null float64\n",
      "self_perception_weight          124 non-null float64\n",
      "soup                            124 non-null float64\n",
      "sports                          123 non-null float64\n",
      "thai_food                       125 non-null int64\n",
      "tortilla_calories               124 non-null float64\n",
      "turkey_calories                 125 non-null int64\n",
      "type_sports                     104 non-null object\n",
      "veggies_day                     125 non-null int64\n",
      "vitamins                        125 non-null int64\n",
      "waffle_calories                 125 non-null int64\n",
      "weight                          123 non-null object\n",
      "dtypes: float64(20), int64(27), object(14)\n",
      "memory usage: 59.6+ KB\n"
     ]
    }
   ],
   "source": [
    "df.info()"
   ]
  },
  {
   "cell_type": "code",
   "execution_count": 49,
   "metadata": {},
   "outputs": [
    {
     "data": {
      "text/html": [
       "<div>\n",
       "<style scoped>\n",
       "    .dataframe tbody tr th:only-of-type {\n",
       "        vertical-align: middle;\n",
       "    }\n",
       "\n",
       "    .dataframe tbody tr th {\n",
       "        vertical-align: top;\n",
       "    }\n",
       "\n",
       "    .dataframe thead th {\n",
       "        text-align: right;\n",
       "    }\n",
       "</style>\n",
       "<table border=\"1\" class=\"dataframe\">\n",
       "  <thead>\n",
       "    <tr style=\"text-align: right;\">\n",
       "      <th></th>\n",
       "      <th>income</th>\n",
       "      <th>Gender</th>\n",
       "      <th>cook</th>\n",
       "      <th>employment</th>\n",
       "      <th>exercise</th>\n",
       "      <th>father_education</th>\n",
       "      <th>nutritional_check</th>\n",
       "      <th>sports</th>\n",
       "      <th>vitamins</th>\n",
       "      <th>weight</th>\n",
       "      <th>mother_education</th>\n",
       "    </tr>\n",
       "  </thead>\n",
       "  <tbody>\n",
       "    <tr>\n",
       "      <th>0</th>\n",
       "      <td>5.0</td>\n",
       "      <td>2</td>\n",
       "      <td>2.0</td>\n",
       "      <td>3.0</td>\n",
       "      <td>1.0</td>\n",
       "      <td>5.0</td>\n",
       "      <td>5</td>\n",
       "      <td>1.0</td>\n",
       "      <td>1</td>\n",
       "      <td>187</td>\n",
       "      <td>1.0</td>\n",
       "    </tr>\n",
       "    <tr>\n",
       "      <th>1</th>\n",
       "      <td>4.0</td>\n",
       "      <td>1</td>\n",
       "      <td>3.0</td>\n",
       "      <td>2.0</td>\n",
       "      <td>1.0</td>\n",
       "      <td>2.0</td>\n",
       "      <td>4</td>\n",
       "      <td>1.0</td>\n",
       "      <td>2</td>\n",
       "      <td>155</td>\n",
       "      <td>4.0</td>\n",
       "    </tr>\n",
       "    <tr>\n",
       "      <th>2</th>\n",
       "      <td>6.0</td>\n",
       "      <td>1</td>\n",
       "      <td>1.0</td>\n",
       "      <td>3.0</td>\n",
       "      <td>2.0</td>\n",
       "      <td>2.0</td>\n",
       "      <td>4</td>\n",
       "      <td>2.0</td>\n",
       "      <td>1</td>\n",
       "      <td>I'm not answering this.</td>\n",
       "      <td>2.0</td>\n",
       "    </tr>\n",
       "    <tr>\n",
       "      <th>3</th>\n",
       "      <td>6.0</td>\n",
       "      <td>1</td>\n",
       "      <td>2.0</td>\n",
       "      <td>3.0</td>\n",
       "      <td>3.0</td>\n",
       "      <td>2.0</td>\n",
       "      <td>2</td>\n",
       "      <td>2.0</td>\n",
       "      <td>1</td>\n",
       "      <td>Not sure, 240</td>\n",
       "      <td>4.0</td>\n",
       "    </tr>\n",
       "    <tr>\n",
       "      <th>4</th>\n",
       "      <td>6.0</td>\n",
       "      <td>1</td>\n",
       "      <td>1.0</td>\n",
       "      <td>2.0</td>\n",
       "      <td>1.0</td>\n",
       "      <td>4.0</td>\n",
       "      <td>3</td>\n",
       "      <td>1.0</td>\n",
       "      <td>2</td>\n",
       "      <td>190</td>\n",
       "      <td>5.0</td>\n",
       "    </tr>\n",
       "  </tbody>\n",
       "</table>\n",
       "</div>"
      ],
      "text/plain": [
       "   income  Gender  cook  employment  exercise  father_education  \\\n",
       "0     5.0       2   2.0         3.0       1.0               5.0   \n",
       "1     4.0       1   3.0         2.0       1.0               2.0   \n",
       "2     6.0       1   1.0         3.0       2.0               2.0   \n",
       "3     6.0       1   2.0         3.0       3.0               2.0   \n",
       "4     6.0       1   1.0         2.0       1.0               4.0   \n",
       "\n",
       "   nutritional_check  sports  vitamins                    weight  \\\n",
       "0                  5     1.0         1                       187   \n",
       "1                  4     1.0         2                       155   \n",
       "2                  4     2.0         1  I'm not answering this.    \n",
       "3                  2     2.0         1             Not sure, 240   \n",
       "4                  3     1.0         2                       190   \n",
       "\n",
       "   mother_education  \n",
       "0               1.0  \n",
       "1               4.0  \n",
       "2               2.0  \n",
       "3               4.0  \n",
       "4               5.0  "
      ]
     },
     "execution_count": 49,
     "metadata": {},
     "output_type": "execute_result"
    }
   ],
   "source": [
    "weight_df =  df[['income','Gender','cook','employment','exercise','father_education','nutritional_check','sports','vitamins','weight','mother_education']]\n",
    "\n",
    "weight_df.head()\n"
   ]
  },
  {
   "cell_type": "code",
   "execution_count": 50,
   "metadata": {},
   "outputs": [
    {
     "data": {
      "text/plain": [
       "income                1\n",
       "Gender                0\n",
       "cook                  3\n",
       "employment            9\n",
       "exercise             13\n",
       "father_education      1\n",
       "nutritional_check     0\n",
       "sports                2\n",
       "vitamins              0\n",
       "weight                2\n",
       "mother_education      3\n",
       "dtype: int64"
      ]
     },
     "execution_count": 50,
     "metadata": {},
     "output_type": "execute_result"
    }
   ],
   "source": [
    "weight_df.isnull().sum()"
   ]
  },
  {
   "cell_type": "code",
   "execution_count": 51,
   "metadata": {
    "scrolled": true
   },
   "outputs": [
    {
     "name": "stdout",
     "output_type": "stream",
     "text": [
      "<class 'pandas.core.frame.DataFrame'>\n",
      "RangeIndex: 125 entries, 0 to 124\n",
      "Data columns (total 11 columns):\n",
      "income               124 non-null float64\n",
      "Gender               125 non-null int64\n",
      "cook                 122 non-null float64\n",
      "employment           116 non-null float64\n",
      "exercise             112 non-null float64\n",
      "father_education     124 non-null float64\n",
      "nutritional_check    125 non-null int64\n",
      "sports               123 non-null float64\n",
      "vitamins             125 non-null int64\n",
      "weight               123 non-null object\n",
      "mother_education     122 non-null float64\n",
      "dtypes: float64(7), int64(3), object(1)\n",
      "memory usage: 10.8+ KB\n"
     ]
    }
   ],
   "source": [
    "weight_df.info()"
   ]
  },
  {
   "cell_type": "code",
   "execution_count": 52,
   "metadata": {
    "scrolled": true
   },
   "outputs": [
    {
     "data": {
      "text/plain": [
       "Gender                0.0\n",
       "nutritional_check     0.0\n",
       "vitamins              0.0\n",
       "income                0.8\n",
       "father_education      0.8\n",
       "sports                1.6\n",
       "weight                1.6\n",
       "cook                  2.4\n",
       "mother_education      2.4\n",
       "employment            7.2\n",
       "exercise             10.4\n",
       "dtype: float64"
      ]
     },
     "execution_count": 52,
     "metadata": {},
     "output_type": "execute_result"
    }
   ],
   "source": [
    "# checking to see which columns do not have numerical values\n",
    "\n",
    "weight_df_null = weight_df.isnull().sum()*100/weight_df.isnull().count()\n",
    "weight_df_null.sort_values()\n"
   ]
  },
  {
   "cell_type": "code",
   "execution_count": 53,
   "metadata": {},
   "outputs": [],
   "source": [
    "#formatting columns\n",
    "\n",
    "new_exercise_column = pd.DataFrame(weight_df['exercise'].fillna(weight_df['exercise'].mean(),inplace=False))\n",
    "new_exercise_column = np.round(new_exercise_column, decimals=0)\n",
    "\n",
    "\n",
    "\n",
    "\n",
    "weight_df = weight_df.drop('exercise', axis=1)\n",
    "weight_df.insert(2,'exercise',new_exercise_column, True)\n",
    "\n",
    "\n"
   ]
  },
  {
   "cell_type": "code",
   "execution_count": 54,
   "metadata": {},
   "outputs": [],
   "source": [
    "#formatting columns\n",
    "\n",
    "\n",
    "new_employment_column    = pd.DataFrame(weight_df['employment'].fillna(weight_df['employment'].mean(),inplace=False))\n",
    "new_income_column        = pd.DataFrame(weight_df['income'].fillna(weight_df['income'].mean(),inplace=False))\n",
    "new_sports_column        = pd.DataFrame(weight_df['sports'].fillna(weight_df['sports'].mean(),inplace=False))\n",
    "new_cook_column          = pd.DataFrame(weight_df['cook'].fillna(weight_df['cook'].mean(),inplace=False))\n",
    "\n",
    "new_employment_column = np.round(new_employment_column, decimals=1)\n",
    "new_income_column = np.round(new_income_column, decimals=1)\n",
    "new_sports_column = np.round(new_sports_column, decimals=1)\n",
    "new_cook_column  = np.round(new_cook_column, decimals=1)\n",
    "\n",
    "weight_df = weight_df.drop('employment', axis=1)\n",
    "weight_df = weight_df.drop('income', axis=1)\n",
    "weight_df = weight_df.drop('sports', axis=1)\n",
    "weight_df = weight_df.drop('cook', axis=1)\n",
    "\n",
    "weight_df.insert(5,'employment',new_employment_column, True)\n",
    "weight_df.insert(6,'income',new_income_column, True)\n",
    "weight_df.insert(8,'sports',new_sports_column, True)\n",
    "weight_df.insert(3,'cook',new_cook_column,True )\n",
    "\n",
    "\n",
    "weight_df.update(weight_df.replace('Not sure, 240',240, inplace=False))\n",
    "weight_df.update(weight_df.replace('144 lbs',144, inplace=False))\n",
    "\n",
    "weight_df['weight'] = weight_df['weight'].drop([2], inplace=False)\n",
    "\n",
    "\n",
    "\n"
   ]
  },
  {
   "cell_type": "code",
   "execution_count": 55,
   "metadata": {},
   "outputs": [
    {
     "data": {
      "text/html": [
       "<div>\n",
       "<style scoped>\n",
       "    .dataframe tbody tr th:only-of-type {\n",
       "        vertical-align: middle;\n",
       "    }\n",
       "\n",
       "    .dataframe tbody tr th {\n",
       "        vertical-align: top;\n",
       "    }\n",
       "\n",
       "    .dataframe thead th {\n",
       "        text-align: right;\n",
       "    }\n",
       "</style>\n",
       "<table border=\"1\" class=\"dataframe\">\n",
       "  <thead>\n",
       "    <tr style=\"text-align: right;\">\n",
       "      <th></th>\n",
       "      <th>Gender</th>\n",
       "      <th>exercise</th>\n",
       "      <th>father_education</th>\n",
       "      <th>cook</th>\n",
       "      <th>nutritional_check</th>\n",
       "      <th>vitamins</th>\n",
       "      <th>employment</th>\n",
       "      <th>income</th>\n",
       "      <th>weight</th>\n",
       "      <th>sports</th>\n",
       "      <th>mother_education</th>\n",
       "    </tr>\n",
       "  </thead>\n",
       "  <tbody>\n",
       "    <tr>\n",
       "      <th>0</th>\n",
       "      <td>2</td>\n",
       "      <td>1.0</td>\n",
       "      <td>5.0</td>\n",
       "      <td>2.0</td>\n",
       "      <td>5</td>\n",
       "      <td>1</td>\n",
       "      <td>3.0</td>\n",
       "      <td>5.0</td>\n",
       "      <td>187</td>\n",
       "      <td>1.0</td>\n",
       "      <td>1.0</td>\n",
       "    </tr>\n",
       "    <tr>\n",
       "      <th>1</th>\n",
       "      <td>1</td>\n",
       "      <td>1.0</td>\n",
       "      <td>2.0</td>\n",
       "      <td>3.0</td>\n",
       "      <td>4</td>\n",
       "      <td>2</td>\n",
       "      <td>2.0</td>\n",
       "      <td>4.0</td>\n",
       "      <td>155</td>\n",
       "      <td>1.0</td>\n",
       "      <td>4.0</td>\n",
       "    </tr>\n",
       "    <tr>\n",
       "      <th>2</th>\n",
       "      <td>1</td>\n",
       "      <td>2.0</td>\n",
       "      <td>2.0</td>\n",
       "      <td>1.0</td>\n",
       "      <td>4</td>\n",
       "      <td>1</td>\n",
       "      <td>3.0</td>\n",
       "      <td>6.0</td>\n",
       "      <td>NaN</td>\n",
       "      <td>2.0</td>\n",
       "      <td>2.0</td>\n",
       "    </tr>\n",
       "    <tr>\n",
       "      <th>3</th>\n",
       "      <td>1</td>\n",
       "      <td>3.0</td>\n",
       "      <td>2.0</td>\n",
       "      <td>2.0</td>\n",
       "      <td>2</td>\n",
       "      <td>1</td>\n",
       "      <td>3.0</td>\n",
       "      <td>6.0</td>\n",
       "      <td>240</td>\n",
       "      <td>2.0</td>\n",
       "      <td>4.0</td>\n",
       "    </tr>\n",
       "    <tr>\n",
       "      <th>4</th>\n",
       "      <td>1</td>\n",
       "      <td>1.0</td>\n",
       "      <td>4.0</td>\n",
       "      <td>1.0</td>\n",
       "      <td>3</td>\n",
       "      <td>2</td>\n",
       "      <td>2.0</td>\n",
       "      <td>6.0</td>\n",
       "      <td>190</td>\n",
       "      <td>1.0</td>\n",
       "      <td>5.0</td>\n",
       "    </tr>\n",
       "  </tbody>\n",
       "</table>\n",
       "</div>"
      ],
      "text/plain": [
       "   Gender  exercise  father_education  cook  nutritional_check  vitamins  \\\n",
       "0       2       1.0               5.0   2.0                  5         1   \n",
       "1       1       1.0               2.0   3.0                  4         2   \n",
       "2       1       2.0               2.0   1.0                  4         1   \n",
       "3       1       3.0               2.0   2.0                  2         1   \n",
       "4       1       1.0               4.0   1.0                  3         2   \n",
       "\n",
       "   employment  income weight  sports  mother_education  \n",
       "0         3.0     5.0    187     1.0               1.0  \n",
       "1         2.0     4.0    155     1.0               4.0  \n",
       "2         3.0     6.0    NaN     2.0               2.0  \n",
       "3         3.0     6.0    240     2.0               4.0  \n",
       "4         2.0     6.0    190     1.0               5.0  "
      ]
     },
     "execution_count": 55,
     "metadata": {},
     "output_type": "execute_result"
    }
   ],
   "source": [
    "weight_df.head()"
   ]
  },
  {
   "cell_type": "code",
   "execution_count": 56,
   "metadata": {},
   "outputs": [],
   "source": [
    "#formatting columns\n",
    "\n",
    "new_weight_column = weight_df['weight'].fillna(0)\n",
    "\n",
    "weight_df['weight'].update(new_weight_column)\n",
    "\n",
    "weight_df[\"weight\"] = weight_df[\"weight\"].astype(int)\n",
    "\n",
    "last_updated_weight = weight_df['weight'].replace(0, weight_df['weight'].mean(), inplace=False )\n",
    "\n",
    "weight_df['weight'].update(last_updated_weight)\n"
   ]
  },
  {
   "cell_type": "code",
   "execution_count": 57,
   "metadata": {},
   "outputs": [
    {
     "data": {
      "text/plain": [
       "Gender               0\n",
       "exercise             0\n",
       "father_education     0\n",
       "cook                 0\n",
       "nutritional_check    0\n",
       "vitamins             0\n",
       "employment           0\n",
       "income               0\n",
       "weight               0\n",
       "sports               0\n",
       "mother_education     0\n",
       "dtype: int64"
      ]
     },
     "execution_count": 57,
     "metadata": {},
     "output_type": "execute_result"
    }
   ],
   "source": [
    "weight_df.dropna(inplace=True)\n",
    "weight_df.isnull().sum()"
   ]
  },
  {
   "cell_type": "code",
   "execution_count": 58,
   "metadata": {},
   "outputs": [
    {
     "data": {
      "image/png": "[encoded data removed]",
      "text/plain": [
       "<Figure size 1296x720 with 2 Axes>"
      ]
     },
     "metadata": {
      "needs_background": "light"
     },
     "output_type": "display_data"
    }
   ],
   "source": [
    "weight_corr = weight_df.corr()\n",
    "\n",
    "plt.figure(figsize=(18,10))\n",
    "\n",
    "sns.heatmap(weight_corr,square=True,annot=True,linewidth=.5)\n",
    "plt.show()"
   ]
  },
  {
   "cell_type": "code",
   "execution_count": 59,
   "metadata": {},
   "outputs": [
    {
     "data": {
      "text/html": [
       "<div>\n",
       "<style scoped>\n",
       "    .dataframe tbody tr th:only-of-type {\n",
       "        vertical-align: middle;\n",
       "    }\n",
       "\n",
       "    .dataframe tbody tr th {\n",
       "        vertical-align: top;\n",
       "    }\n",
       "\n",
       "    .dataframe thead th {\n",
       "        text-align: right;\n",
       "    }\n",
       "</style>\n",
       "<table border=\"1\" class=\"dataframe\">\n",
       "  <thead>\n",
       "    <tr style=\"text-align: right;\">\n",
       "      <th></th>\n",
       "      <th>Gender</th>\n",
       "      <th>exercise</th>\n",
       "      <th>father_education</th>\n",
       "      <th>cook</th>\n",
       "      <th>nutritional_check</th>\n",
       "      <th>vitamins</th>\n",
       "      <th>employment</th>\n",
       "      <th>income</th>\n",
       "      <th>weight</th>\n",
       "      <th>sports</th>\n",
       "      <th>mother_education</th>\n",
       "    </tr>\n",
       "  </thead>\n",
       "  <tbody>\n",
       "    <tr>\n",
       "      <th>0</th>\n",
       "      <td>2</td>\n",
       "      <td>1.0</td>\n",
       "      <td>5.0</td>\n",
       "      <td>2.0</td>\n",
       "      <td>5</td>\n",
       "      <td>1</td>\n",
       "      <td>3.0</td>\n",
       "      <td>5.0</td>\n",
       "      <td>187.000</td>\n",
       "      <td>1.0</td>\n",
       "      <td>1.0</td>\n",
       "    </tr>\n",
       "    <tr>\n",
       "      <th>1</th>\n",
       "      <td>1</td>\n",
       "      <td>1.0</td>\n",
       "      <td>2.0</td>\n",
       "      <td>3.0</td>\n",
       "      <td>4</td>\n",
       "      <td>2</td>\n",
       "      <td>2.0</td>\n",
       "      <td>4.0</td>\n",
       "      <td>155.000</td>\n",
       "      <td>1.0</td>\n",
       "      <td>4.0</td>\n",
       "    </tr>\n",
       "    <tr>\n",
       "      <th>2</th>\n",
       "      <td>1</td>\n",
       "      <td>2.0</td>\n",
       "      <td>2.0</td>\n",
       "      <td>1.0</td>\n",
       "      <td>4</td>\n",
       "      <td>1</td>\n",
       "      <td>3.0</td>\n",
       "      <td>6.0</td>\n",
       "      <td>155.232</td>\n",
       "      <td>2.0</td>\n",
       "      <td>2.0</td>\n",
       "    </tr>\n",
       "    <tr>\n",
       "      <th>3</th>\n",
       "      <td>1</td>\n",
       "      <td>3.0</td>\n",
       "      <td>2.0</td>\n",
       "      <td>2.0</td>\n",
       "      <td>2</td>\n",
       "      <td>1</td>\n",
       "      <td>3.0</td>\n",
       "      <td>6.0</td>\n",
       "      <td>240.000</td>\n",
       "      <td>2.0</td>\n",
       "      <td>4.0</td>\n",
       "    </tr>\n",
       "    <tr>\n",
       "      <th>4</th>\n",
       "      <td>1</td>\n",
       "      <td>1.0</td>\n",
       "      <td>4.0</td>\n",
       "      <td>1.0</td>\n",
       "      <td>3</td>\n",
       "      <td>2</td>\n",
       "      <td>2.0</td>\n",
       "      <td>6.0</td>\n",
       "      <td>190.000</td>\n",
       "      <td>1.0</td>\n",
       "      <td>5.0</td>\n",
       "    </tr>\n",
       "  </tbody>\n",
       "</table>\n",
       "</div>"
      ],
      "text/plain": [
       "   Gender  exercise  father_education  cook  nutritional_check  vitamins  \\\n",
       "0       2       1.0               5.0   2.0                  5         1   \n",
       "1       1       1.0               2.0   3.0                  4         2   \n",
       "2       1       2.0               2.0   1.0                  4         1   \n",
       "3       1       3.0               2.0   2.0                  2         1   \n",
       "4       1       1.0               4.0   1.0                  3         2   \n",
       "\n",
       "   employment  income   weight  sports  mother_education  \n",
       "0         3.0     5.0  187.000     1.0               1.0  \n",
       "1         2.0     4.0  155.000     1.0               4.0  \n",
       "2         3.0     6.0  155.232     2.0               2.0  \n",
       "3         3.0     6.0  240.000     2.0               4.0  \n",
       "4         2.0     6.0  190.000     1.0               5.0  "
      ]
     },
     "execution_count": 59,
     "metadata": {},
     "output_type": "execute_result"
    }
   ],
   "source": [
    "weight_df.head()"
   ]
  },
  {
   "cell_type": "code",
   "execution_count": 60,
   "metadata": {},
   "outputs": [],
   "source": [
    "X = weight_df.iloc[:,1:]\n",
    "Y = weight_df.iloc[:,0]\n"
   ]
  },
  {
   "cell_type": "markdown",
   "metadata": {},
   "source": [
    "."
   ]
  },
  {
   "cell_type": "markdown",
   "metadata": {},
   "source": [
    "."
   ]
  },
  {
   "cell_type": "markdown",
   "metadata": {},
   "source": [
    "# Target variable ==> EXERCISE"
   ]
  },
  {
   "cell_type": "code",
   "execution_count": 61,
   "metadata": {},
   "outputs": [],
   "source": [
    "X_train, X_test, Y_train, Y_test = train_test_split(X, Y, test_size = .3, random_state=25)"
   ]
  },
  {
   "cell_type": "markdown",
   "metadata": {},
   "source": [
    "."
   ]
  },
  {
   "cell_type": "markdown",
   "metadata": {},
   "source": [
    "."
   ]
  },
  {
   "cell_type": "markdown",
   "metadata": {},
   "source": [
    "."
   ]
  },
  {
   "cell_type": "markdown",
   "metadata": {},
   "source": [
    "#  Trial 1"
   ]
  },
  {
   "cell_type": "code",
   "execution_count": 63,
   "metadata": {},
   "outputs": [],
   "source": [
    "weight_df = weight_df.reindex(columns=['exercise','father_education','cook','nutritional_check','vitamins','employment','income','weight','sports','mother_education'])"
   ]
  },
  {
   "cell_type": "code",
   "execution_count": 64,
   "metadata": {},
   "outputs": [],
   "source": [
    "X = weight_df.iloc[:,1:]\n",
    "Y = weight_df.iloc[:,0]"
   ]
  },
  {
   "cell_type": "code",
   "execution_count": 67,
   "metadata": {},
   "outputs": [
    {
     "data": {
      "text/html": [
       "<div>\n",
       "<style scoped>\n",
       "    .dataframe tbody tr th:only-of-type {\n",
       "        vertical-align: middle;\n",
       "    }\n",
       "\n",
       "    .dataframe tbody tr th {\n",
       "        vertical-align: top;\n",
       "    }\n",
       "\n",
       "    .dataframe thead th {\n",
       "        text-align: right;\n",
       "    }\n",
       "</style>\n",
       "<table border=\"1\" class=\"dataframe\">\n",
       "  <thead>\n",
       "    <tr style=\"text-align: right;\">\n",
       "      <th></th>\n",
       "      <th>const</th>\n",
       "      <th>exercise</th>\n",
       "      <th>father_education</th>\n",
       "      <th>cook</th>\n",
       "      <th>nutritional_check</th>\n",
       "      <th>vitamins</th>\n",
       "      <th>employment</th>\n",
       "      <th>income</th>\n",
       "      <th>weight</th>\n",
       "      <th>sports</th>\n",
       "      <th>mother_education</th>\n",
       "    </tr>\n",
       "  </thead>\n",
       "  <tbody>\n",
       "    <tr>\n",
       "      <th>82</th>\n",
       "      <td>1.0</td>\n",
       "      <td>1.0</td>\n",
       "      <td>4.0</td>\n",
       "      <td>2.8</td>\n",
       "      <td>3</td>\n",
       "      <td>2</td>\n",
       "      <td>3.0</td>\n",
       "      <td>3.0</td>\n",
       "      <td>170.0</td>\n",
       "      <td>1.0</td>\n",
       "      <td>4.0</td>\n",
       "    </tr>\n",
       "    <tr>\n",
       "      <th>78</th>\n",
       "      <td>1.0</td>\n",
       "      <td>1.0</td>\n",
       "      <td>2.0</td>\n",
       "      <td>2.0</td>\n",
       "      <td>4</td>\n",
       "      <td>1</td>\n",
       "      <td>2.0</td>\n",
       "      <td>5.0</td>\n",
       "      <td>135.0</td>\n",
       "      <td>1.0</td>\n",
       "      <td>2.0</td>\n",
       "    </tr>\n",
       "    <tr>\n",
       "      <th>99</th>\n",
       "      <td>1.0</td>\n",
       "      <td>2.0</td>\n",
       "      <td>3.0</td>\n",
       "      <td>4.0</td>\n",
       "      <td>2</td>\n",
       "      <td>1</td>\n",
       "      <td>2.0</td>\n",
       "      <td>4.0</td>\n",
       "      <td>165.0</td>\n",
       "      <td>1.0</td>\n",
       "      <td>4.0</td>\n",
       "    </tr>\n",
       "    <tr>\n",
       "      <th>90</th>\n",
       "      <td>1.0</td>\n",
       "      <td>1.0</td>\n",
       "      <td>2.0</td>\n",
       "      <td>4.0</td>\n",
       "      <td>2</td>\n",
       "      <td>1</td>\n",
       "      <td>3.0</td>\n",
       "      <td>6.0</td>\n",
       "      <td>260.0</td>\n",
       "      <td>1.0</td>\n",
       "      <td>3.0</td>\n",
       "    </tr>\n",
       "    <tr>\n",
       "      <th>60</th>\n",
       "      <td>1.0</td>\n",
       "      <td>1.0</td>\n",
       "      <td>4.0</td>\n",
       "      <td>2.0</td>\n",
       "      <td>4</td>\n",
       "      <td>1</td>\n",
       "      <td>3.0</td>\n",
       "      <td>6.0</td>\n",
       "      <td>135.0</td>\n",
       "      <td>1.0</td>\n",
       "      <td>4.0</td>\n",
       "    </tr>\n",
       "  </tbody>\n",
       "</table>\n",
       "</div>"
      ],
      "text/plain": [
       "    const  exercise  father_education  cook  nutritional_check  vitamins  \\\n",
       "82    1.0       1.0               4.0   2.8                  3         2   \n",
       "78    1.0       1.0               2.0   2.0                  4         1   \n",
       "99    1.0       2.0               3.0   4.0                  2         1   \n",
       "90    1.0       1.0               2.0   4.0                  2         1   \n",
       "60    1.0       1.0               4.0   2.0                  4         1   \n",
       "\n",
       "    employment  income  weight  sports  mother_education  \n",
       "82         3.0     3.0   170.0     1.0               4.0  \n",
       "78         2.0     5.0   135.0     1.0               2.0  \n",
       "99         2.0     4.0   165.0     1.0               4.0  \n",
       "90         3.0     6.0   260.0     1.0               3.0  \n",
       "60         3.0     6.0   135.0     1.0               4.0  "
      ]
     },
     "execution_count": 67,
     "metadata": {},
     "output_type": "execute_result"
    }
   ],
   "source": [
    "X_train.head()"
   ]
  },
  {
   "cell_type": "code",
   "execution_count": 68,
   "metadata": {},
   "outputs": [],
   "source": [
    "X_train = sm.add_constant(X_train)"
   ]
  },
  {
   "cell_type": "code",
   "execution_count": 69,
   "metadata": {},
   "outputs": [
    {
     "name": "stdout",
     "output_type": "stream",
     "text": [
      "                            OLS Regression Results                            \n",
      "==============================================================================\n",
      "Dep. Variable:                 Gender   R-squared:                       0.429\n",
      "Model:                            OLS   Adj. R-squared:                  0.351\n",
      "Method:                 Least Squares   F-statistic:                     5.487\n",
      "Date:                Sun, 21 Jun 2020   Prob (F-statistic):           4.92e-06\n",
      "Time:                        02:03:02   Log-Likelihood:                -34.972\n",
      "No. Observations:                  84   AIC:                             91.94\n",
      "Df Residuals:                      73   BIC:                             118.7\n",
      "Df Model:                          10                                         \n",
      "Covariance Type:            nonrobust                                         \n",
      "=====================================================================================\n",
      "                        coef    std err          t      P>|t|      [0.025      0.975]\n",
      "-------------------------------------------------------------------------------------\n",
      "const                 0.3557      0.478      0.744      0.459      -0.597       1.308\n",
      "exercise             -0.1315      0.078     -1.690      0.095      -0.287       0.024\n",
      "father_education      0.0283      0.042      0.680      0.499      -0.055       0.111\n",
      "cook                  0.1455      0.043      3.348      0.001       0.059       0.232\n",
      "nutritional_check    -0.0518      0.043     -1.212      0.229      -0.137       0.033\n",
      "vitamins             -0.1440      0.094     -1.528      0.131      -0.332       0.044\n",
      "employment            0.0138      0.094      0.147      0.883      -0.173       0.200\n",
      "income                0.0508      0.036      1.417      0.161      -0.021       0.122\n",
      "weight                0.0061      0.002      3.895      0.000       0.003       0.009\n",
      "sports                0.0239      0.106      0.226      0.822      -0.187       0.235\n",
      "mother_education     -0.0458      0.043     -1.075      0.286      -0.131       0.039\n",
      "==============================================================================\n",
      "Omnibus:                        4.990   Durbin-Watson:                   2.257\n",
      "Prob(Omnibus):                  0.082   Jarque-Bera (JB):                3.597\n",
      "Skew:                           0.364   Prob(JB):                        0.166\n",
      "Kurtosis:                       2.295   Cond. No.                     1.83e+03\n",
      "==============================================================================\n",
      "\n",
      "Warnings:\n",
      "[1] Standard Errors assume that the covariance matrix of the errors is correctly specified.\n",
      "[2] The condition number is large, 1.83e+03. This might indicate that there are\n",
      "strong multicollinearity or other numerical problems.\n"
     ]
    }
   ],
   "source": [
    "results = sm.OLS(Y_train, X_train).fit()\n",
    "\n",
    "print(results.summary())"
   ]
  },
  {
   "cell_type": "code",
   "execution_count": 70,
   "metadata": {},
   "outputs": [
    {
     "data": {
      "text/plain": [
       "LogisticRegression(C=1.0, class_weight=None, dual=False, fit_intercept=True,\n",
       "          intercept_scaling=1, max_iter=100, multi_class='warn',\n",
       "          n_jobs=None, penalty='l2', random_state=None, solver='warn',\n",
       "          tol=0.0001, verbose=0, warm_start=False)"
      ]
     },
     "execution_count": 70,
     "metadata": {},
     "output_type": "execute_result"
    }
   ],
   "source": [
    "LogReg = LogisticRegression()\n",
    "LogReg.fit(X_train, Y_train)"
   ]
  },
  {
   "cell_type": "code",
   "execution_count": 71,
   "metadata": {},
   "outputs": [
    {
     "data": {
      "text/plain": [
       "0.8095238095238095"
      ]
     },
     "execution_count": 71,
     "metadata": {},
     "output_type": "execute_result"
    }
   ],
   "source": [
    "LogReg.score(X_train, Y_train)"
   ]
  },
  {
   "cell_type": "markdown",
   "metadata": {},
   "source": [
    "."
   ]
  },
  {
   "cell_type": "markdown",
   "metadata": {},
   "source": [
    "."
   ]
  },
  {
   "cell_type": "code",
   "execution_count": 72,
   "metadata": {},
   "outputs": [
    {
     "data": {
      "text/plain": [
       "LogisticRegression(C=1.0, class_weight=None, dual=False, fit_intercept=True,\n",
       "          intercept_scaling=1, max_iter=100, multi_class='warn',\n",
       "          n_jobs=None, penalty='l2', random_state=None, solver='warn',\n",
       "          tol=0.0001, verbose=0, warm_start=False)"
      ]
     },
     "execution_count": 72,
     "metadata": {},
     "output_type": "execute_result"
    }
   ],
   "source": [
    "# LogReg = LogisticRegression()\n",
    "# LogReg.fit(X, Y)"
   ]
  },
  {
   "cell_type": "code",
   "execution_count": 73,
   "metadata": {},
   "outputs": [
    {
     "data": {
      "text/plain": [
       "0.6776859504132231"
      ]
     },
     "execution_count": 73,
     "metadata": {},
     "output_type": "execute_result"
    }
   ],
   "source": [
    "# LogReg.score(X, Y)"
   ]
  },
  {
   "cell_type": "markdown",
   "metadata": {},
   "source": [
    "."
   ]
  },
  {
   "cell_type": "markdown",
   "metadata": {},
   "source": [
    "."
   ]
  },
  {
   "cell_type": "markdown",
   "metadata": {},
   "source": [
    "."
   ]
  },
  {
   "cell_type": "markdown",
   "metadata": {},
   "source": [
    "# Trial 2"
   ]
  },
  {
   "cell_type": "code",
   "execution_count": 74,
   "metadata": {},
   "outputs": [],
   "source": [
    "weight_df = weight_df.reindex(columns=['exercise','nutritional_check','employment','weight','sports'])"
   ]
  },
  {
   "cell_type": "code",
   "execution_count": 75,
   "metadata": {},
   "outputs": [],
   "source": [
    "X = weight_df.iloc[:,1:]\n",
    "Y = weight_df.iloc[:,0]"
   ]
  },
  {
   "cell_type": "code",
   "execution_count": 76,
   "metadata": {},
   "outputs": [
    {
     "data": {
      "text/html": [
       "<div>\n",
       "<style scoped>\n",
       "    .dataframe tbody tr th:only-of-type {\n",
       "        vertical-align: middle;\n",
       "    }\n",
       "\n",
       "    .dataframe tbody tr th {\n",
       "        vertical-align: top;\n",
       "    }\n",
       "\n",
       "    .dataframe thead th {\n",
       "        text-align: right;\n",
       "    }\n",
       "</style>\n",
       "<table border=\"1\" class=\"dataframe\">\n",
       "  <thead>\n",
       "    <tr style=\"text-align: right;\">\n",
       "      <th></th>\n",
       "      <th>exercise</th>\n",
       "      <th>nutritional_check</th>\n",
       "      <th>employment</th>\n",
       "      <th>weight</th>\n",
       "      <th>sports</th>\n",
       "    </tr>\n",
       "  </thead>\n",
       "  <tbody>\n",
       "    <tr>\n",
       "      <th>0</th>\n",
       "      <td>1.0</td>\n",
       "      <td>5</td>\n",
       "      <td>3.0</td>\n",
       "      <td>187.000</td>\n",
       "      <td>1.0</td>\n",
       "    </tr>\n",
       "    <tr>\n",
       "      <th>1</th>\n",
       "      <td>1.0</td>\n",
       "      <td>4</td>\n",
       "      <td>2.0</td>\n",
       "      <td>155.000</td>\n",
       "      <td>1.0</td>\n",
       "    </tr>\n",
       "    <tr>\n",
       "      <th>2</th>\n",
       "      <td>2.0</td>\n",
       "      <td>4</td>\n",
       "      <td>3.0</td>\n",
       "      <td>155.232</td>\n",
       "      <td>2.0</td>\n",
       "    </tr>\n",
       "    <tr>\n",
       "      <th>3</th>\n",
       "      <td>3.0</td>\n",
       "      <td>2</td>\n",
       "      <td>3.0</td>\n",
       "      <td>240.000</td>\n",
       "      <td>2.0</td>\n",
       "    </tr>\n",
       "    <tr>\n",
       "      <th>4</th>\n",
       "      <td>1.0</td>\n",
       "      <td>3</td>\n",
       "      <td>2.0</td>\n",
       "      <td>190.000</td>\n",
       "      <td>1.0</td>\n",
       "    </tr>\n",
       "  </tbody>\n",
       "</table>\n",
       "</div>"
      ],
      "text/plain": [
       "   exercise  nutritional_check  employment   weight  sports\n",
       "0       1.0                  5         3.0  187.000     1.0\n",
       "1       1.0                  4         2.0  155.000     1.0\n",
       "2       2.0                  4         3.0  155.232     2.0\n",
       "3       3.0                  2         3.0  240.000     2.0\n",
       "4       1.0                  3         2.0  190.000     1.0"
      ]
     },
     "execution_count": 76,
     "metadata": {},
     "output_type": "execute_result"
    }
   ],
   "source": [
    "weight_df.head()"
   ]
  },
  {
   "cell_type": "code",
   "execution_count": 77,
   "metadata": {},
   "outputs": [],
   "source": [
    "X_train, X_test, Y_train, Y_test = train_test_split(X, Y, test_size = .3, random_state=25)"
   ]
  },
  {
   "cell_type": "code",
   "execution_count": 78,
   "metadata": {},
   "outputs": [
    {
     "data": {
      "text/html": [
       "<div>\n",
       "<style scoped>\n",
       "    .dataframe tbody tr th:only-of-type {\n",
       "        vertical-align: middle;\n",
       "    }\n",
       "\n",
       "    .dataframe tbody tr th {\n",
       "        vertical-align: top;\n",
       "    }\n",
       "\n",
       "    .dataframe thead th {\n",
       "        text-align: right;\n",
       "    }\n",
       "</style>\n",
       "<table border=\"1\" class=\"dataframe\">\n",
       "  <thead>\n",
       "    <tr style=\"text-align: right;\">\n",
       "      <th></th>\n",
       "      <th>nutritional_check</th>\n",
       "      <th>employment</th>\n",
       "      <th>weight</th>\n",
       "      <th>sports</th>\n",
       "    </tr>\n",
       "  </thead>\n",
       "  <tbody>\n",
       "    <tr>\n",
       "      <th>82</th>\n",
       "      <td>3</td>\n",
       "      <td>3.0</td>\n",
       "      <td>170.0</td>\n",
       "      <td>1.0</td>\n",
       "    </tr>\n",
       "    <tr>\n",
       "      <th>78</th>\n",
       "      <td>4</td>\n",
       "      <td>2.0</td>\n",
       "      <td>135.0</td>\n",
       "      <td>1.0</td>\n",
       "    </tr>\n",
       "    <tr>\n",
       "      <th>99</th>\n",
       "      <td>2</td>\n",
       "      <td>2.0</td>\n",
       "      <td>165.0</td>\n",
       "      <td>1.0</td>\n",
       "    </tr>\n",
       "    <tr>\n",
       "      <th>90</th>\n",
       "      <td>2</td>\n",
       "      <td>3.0</td>\n",
       "      <td>260.0</td>\n",
       "      <td>1.0</td>\n",
       "    </tr>\n",
       "    <tr>\n",
       "      <th>60</th>\n",
       "      <td>4</td>\n",
       "      <td>3.0</td>\n",
       "      <td>135.0</td>\n",
       "      <td>1.0</td>\n",
       "    </tr>\n",
       "  </tbody>\n",
       "</table>\n",
       "</div>"
      ],
      "text/plain": [
       "    nutritional_check  employment  weight  sports\n",
       "82                  3         3.0   170.0     1.0\n",
       "78                  4         2.0   135.0     1.0\n",
       "99                  2         2.0   165.0     1.0\n",
       "90                  2         3.0   260.0     1.0\n",
       "60                  4         3.0   135.0     1.0"
      ]
     },
     "execution_count": 78,
     "metadata": {},
     "output_type": "execute_result"
    }
   ],
   "source": [
    "X_train.head()"
   ]
  },
  {
   "cell_type": "code",
   "execution_count": 79,
   "metadata": {},
   "outputs": [],
   "source": [
    "X_train = sm.add_constant(X_train)"
   ]
  },
  {
   "cell_type": "code",
   "execution_count": 80,
   "metadata": {},
   "outputs": [
    {
     "name": "stdout",
     "output_type": "stream",
     "text": [
      "                            OLS Regression Results                            \n",
      "==============================================================================\n",
      "Dep. Variable:               exercise   R-squared:                       0.310\n",
      "Model:                            OLS   Adj. R-squared:                  0.275\n",
      "Method:                 Least Squares   F-statistic:                     8.884\n",
      "Date:                Sun, 21 Jun 2020   Prob (F-statistic):           5.63e-06\n",
      "Time:                        02:06:43   Log-Likelihood:                -69.784\n",
      "No. Observations:                  84   AIC:                             149.6\n",
      "Df Residuals:                      79   BIC:                             161.7\n",
      "Df Model:                           4                                         \n",
      "Covariance Type:            nonrobust                                         \n",
      "=====================================================================================\n",
      "                        coef    std err          t      P>|t|      [0.025      0.975]\n",
      "-------------------------------------------------------------------------------------\n",
      "const                 1.3741      0.498      2.758      0.007       0.382       2.366\n",
      "nutritional_check    -0.1642      0.054     -3.031      0.003      -0.272      -0.056\n",
      "employment           -0.2828      0.124     -2.279      0.025      -0.530      -0.036\n",
      "weight                0.0045      0.002      2.122      0.037       0.000       0.009\n",
      "sports                0.5558      0.133      4.193      0.000       0.292       0.820\n",
      "==============================================================================\n",
      "Omnibus:                        1.780   Durbin-Watson:                   2.399\n",
      "Prob(Omnibus):                  0.411   Jarque-Bera (JB):                1.772\n",
      "Skew:                           0.335   Prob(JB):                        0.412\n",
      "Kurtosis:                       2.760   Cond. No.                     1.32e+03\n",
      "==============================================================================\n",
      "\n",
      "Warnings:\n",
      "[1] Standard Errors assume that the covariance matrix of the errors is correctly specified.\n",
      "[2] The condition number is large, 1.32e+03. This might indicate that there are\n",
      "strong multicollinearity or other numerical problems.\n"
     ]
    }
   ],
   "source": [
    "results = sm.OLS(Y_train, X_train).fit()\n",
    "\n",
    "print(results.summary())"
   ]
  },
  {
   "cell_type": "code",
   "execution_count": 82,
   "metadata": {},
   "outputs": [
    {
     "data": {
      "text/plain": [
       "LogisticRegression(C=1.0, class_weight=None, dual=False, fit_intercept=True,\n",
       "          intercept_scaling=1, max_iter=100, multi_class='warn',\n",
       "          n_jobs=None, penalty='l2', random_state=None, solver='warn',\n",
       "          tol=0.0001, verbose=0, warm_start=False)"
      ]
     },
     "execution_count": 82,
     "metadata": {},
     "output_type": "execute_result"
    }
   ],
   "source": [
    "LogReg = LogisticRegression()\n",
    "LogReg.fit(X_train, Y_train)"
   ]
  },
  {
   "cell_type": "markdown",
   "metadata": {},
   "source": [
    "."
   ]
  },
  {
   "cell_type": "markdown",
   "metadata": {},
   "source": [
    "."
   ]
  },
  {
   "cell_type": "markdown",
   "metadata": {},
   "source": [
    "."
   ]
  },
  {
   "cell_type": "markdown",
   "metadata": {},
   "source": [
    "# Trial 3 ( using interaction variables  )"
   ]
  },
  {
   "cell_type": "code",
   "execution_count": 90,
   "metadata": {},
   "outputs": [
    {
     "name": "stdout",
     "output_type": "stream",
     "text": [
      "The number of observations in the training set is 84\n",
      "The number of observations in the test set is 37 \n",
      "\n",
      "                            OLS Regression Results                            \n",
      "==============================================================================\n",
      "Dep. Variable:               exercise   R-squared:                       0.313\n",
      "Model:                            OLS   Adj. R-squared:                  0.269\n",
      "Method:                 Least Squares   F-statistic:                     7.101\n",
      "Date:                Sun, 21 Jun 2020   Prob (F-statistic):           1.61e-05\n",
      "Time:                        02:24:24   Log-Likelihood:                -69.630\n",
      "No. Observations:                  84   AIC:                             151.3\n",
      "Df Residuals:                      78   BIC:                             165.8\n",
      "Df Model:                           5                                         \n",
      "Covariance Type:            nonrobust                                         \n",
      "=====================================================================================\n",
      "                        coef    std err          t      P>|t|      [0.025      0.975]\n",
      "-------------------------------------------------------------------------------------\n",
      "const                 1.8031      0.945      1.908      0.060      -0.079       3.685\n",
      "nutritional_check    -0.1616      0.055     -2.957      0.004      -0.270      -0.053\n",
      "employment           -0.4681      0.368     -1.272      0.207      -1.201       0.265\n",
      "weight                0.0045      0.002      2.134      0.036       0.000       0.009\n",
      "sports                0.2143      0.652      0.329      0.743      -1.084       1.512\n",
      "employed_works        0.1423      0.266      0.535      0.594      -0.387       0.672\n",
      "==============================================================================\n",
      "Omnibus:                        1.835   Durbin-Watson:                   2.394\n",
      "Prob(Omnibus):                  0.400   Jarque-Bera (JB):                1.841\n",
      "Skew:                           0.337   Prob(JB):                        0.398\n",
      "Kurtosis:                       2.733   Cond. No.                     3.10e+03\n",
      "==============================================================================\n",
      "\n",
      "Warnings:\n",
      "[1] Standard Errors assume that the covariance matrix of the errors is correctly specified.\n",
      "[2] The condition number is large, 3.1e+03. This might indicate that there are\n",
      "strong multicollinearity or other numerical problems.\n"
     ]
    }
   ],
   "source": [
    "Y = weight_df.iloc[:,0]\n",
    "\n",
    "\n",
    "# INTERACTION VARIABLE\n",
    "\n",
    "weight_df['employed_works'] = weight_df.employment * weight_df.sports\n",
    "\n",
    "\n",
    "\n",
    "weight_df.reindex(columns=['exercise','nutritional_check','employment','weight','sports','employed_works'])\n",
    "\n",
    "X = weight_df.iloc[:,1:]\n",
    "\n",
    "X_train, X_test, Y_train, Y_test = train_test_split(X, Y, test_size = .3, random_state=25)\n",
    "\n",
    "print(\"The number of observations in the training set is {}\".format(X_train.shape[0]))\n",
    "print(\"The number of observations in the test set is {}\".format(X_test.shape[0]),\"\\n\")\n",
    "\n",
    "X_train = sm.add_constant(X_train)\n",
    "\n",
    "results = sm.OLS(Y_train, X_train).fit()\n",
    "\n",
    "print(results.summary())"
   ]
  },
  {
   "cell_type": "code",
   "execution_count": 91,
   "metadata": {},
   "outputs": [
    {
     "data": {
      "text/plain": [
       "LogisticRegression(C=1.0, class_weight=None, dual=False, fit_intercept=True,\n",
       "          intercept_scaling=1, max_iter=100, multi_class='warn',\n",
       "          n_jobs=None, penalty='l2', random_state=None, solver='warn',\n",
       "          tol=0.0001, verbose=0, warm_start=False)"
      ]
     },
     "execution_count": 91,
     "metadata": {},
     "output_type": "execute_result"
    }
   ],
   "source": [
    "LogReg = LogisticRegression()\n",
    "LogReg.fit(X_train, Y_train)"
   ]
  },
  {
   "cell_type": "code",
   "execution_count": 92,
   "metadata": {},
   "outputs": [
    {
     "data": {
      "text/plain": [
       "0.6428571428571429"
      ]
     },
     "execution_count": 92,
     "metadata": {},
     "output_type": "execute_result"
    }
   ],
   "source": [
    "LogReg.score(X_train, Y_train)"
   ]
  },
  {
   "cell_type": "markdown",
   "metadata": {},
   "source": [
    "# Conclusion:"
   ]
  },
  {
   "cell_type": "markdown",
   "metadata": {},
   "source": [
    "The model proved to be untrustworthy with Adjusted R-squared figures so low. The percentages of the three Adjusted R-squared \n",
    "was 30%. The interesting discovery was the Accuracy score was around 81%.  Overall, since the Adjusted R-squred is the most important determinant, therefore the model is not reliable in predicting how often an individual exercises."
   ]
  }
 ],
 "metadata": {
  "kernelspec": {
   "display_name": "Python 3",
   "language": "python",
   "name": "python3"
  },
  "language_info": {
   "codemirror_mode": {
    "name": "ipython",
    "version": 3
   },
   "file_extension": ".py",
   "mimetype": "text/x-python",
   "name": "python",
   "nbconvert_exporter": "python",
   "pygments_lexer": "ipython3",
   "version": "3.7.3"
  }
 },
 "nbformat": 4,
 "nbformat_minor": 2
}
